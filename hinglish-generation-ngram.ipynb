{
 "cells": [
  {
   "cell_type": "code",
   "execution_count": 1,
   "id": "6055ea98",
   "metadata": {
    "execution": {
     "iopub.execute_input": "2023-05-16T11:17:38.473593Z",
     "iopub.status.busy": "2023-05-16T11:17:38.473163Z",
     "iopub.status.idle": "2023-05-16T11:17:51.005988Z",
     "shell.execute_reply": "2023-05-16T11:17:51.004759Z"
    },
    "papermill": {
     "duration": 12.548778,
     "end_time": "2023-05-16T11:17:51.008859",
     "exception": false,
     "start_time": "2023-05-16T11:17:38.460081",
     "status": "completed"
    },
    "tags": []
   },
   "outputs": [
    {
     "name": "stdout",
     "output_type": "stream",
     "text": [
      "Collecting rouge\r\n",
      "  Downloading rouge-1.0.1-py3-none-any.whl (13 kB)\r\n",
      "Requirement already satisfied: six in /opt/conda/lib/python3.7/site-packages (from rouge) (1.16.0)\r\n",
      "Installing collected packages: rouge\r\n",
      "Successfully installed rouge-1.0.1\r\n",
      "\u001b[33mWARNING: Running pip as the 'root' user can result in broken permissions and conflicting behaviour with the system package manager. It is recommended to use a virtual environment instead: https://pip.pypa.io/warnings/venv\u001b[0m\u001b[33m\r\n",
      "\u001b[0m"
     ]
    }
   ],
   "source": [
    "!pip install rouge"
   ]
  },
  {
   "cell_type": "code",
   "execution_count": 2,
   "id": "d8146543",
   "metadata": {
    "execution": {
     "iopub.execute_input": "2023-05-16T11:17:51.033184Z",
     "iopub.status.busy": "2023-05-16T11:17:51.032213Z",
     "iopub.status.idle": "2023-05-16T11:17:59.756462Z",
     "shell.execute_reply": "2023-05-16T11:17:59.755361Z"
    },
    "papermill": {
     "duration": 8.739319,
     "end_time": "2023-05-16T11:17:59.759519",
     "exception": false,
     "start_time": "2023-05-16T11:17:51.020200",
     "status": "completed"
    },
    "tags": []
   },
   "outputs": [],
   "source": [
    "import pandas as pd\n",
    "import os\n",
    "import pickle\n",
    "import gensim\n",
    "from gensim.models import Word2Vec\n",
    "import numpy as np\n",
    "import re\n",
    "from sklearn.model_selection import train_test_split\n",
    "import tensorflow\n",
    "from keras.utils import to_categorical\n",
    "from gensim.models import KeyedVectors\n",
    "from keras.models import Sequential\n",
    "from keras.layers import Dense, Dropout, Embedding, LSTM, Bidirectional, TimeDistributed, SimpleRNN\n",
    "from keras.optimizers import Adam\n",
    "from keras.callbacks import ModelCheckpoint\n",
    "from keras.callbacks import EarlyStopping\n",
    "from sklearn.metrics import classification_report, accuracy_score\n",
    "from keras.utils import to_categorical, pad_sequences\n",
    "from keras.preprocessing.text import Tokenizer\n",
    "from sklearn.metrics import precision_recall_fscore_support as score\n",
    "import matplotlib.pyplot as plt\n",
    "from keras.models import load_model\n",
    "from sklearn.metrics import classification_report, recall_score, precision_score, f1_score\n",
    "from nltk.translate.bleu_score import sentence_bleu\n",
    "from rouge import Rouge\n",
    "\n",
    "from keras.models import Sequential\n",
    "from keras.layers import Dense\n",
    "from keras.utils.vis_utils import plot_model"
   ]
  },
  {
   "cell_type": "code",
   "execution_count": 3,
   "id": "295f49bf",
   "metadata": {
    "execution": {
     "iopub.execute_input": "2023-05-16T11:17:59.783181Z",
     "iopub.status.busy": "2023-05-16T11:17:59.782118Z",
     "iopub.status.idle": "2023-05-16T11:17:59.788787Z",
     "shell.execute_reply": "2023-05-16T11:17:59.787057Z"
    },
    "papermill": {
     "duration": 0.02088,
     "end_time": "2023-05-16T11:17:59.791145",
     "exception": false,
     "start_time": "2023-05-16T11:17:59.770265",
     "status": "completed"
    },
    "tags": []
   },
   "outputs": [],
   "source": [
    "def readFile(path):\n",
    "    with open(path, 'r', encoding=\"utf-8\") as f:\n",
    "        text = f.read()\n",
    "    return text\n"
   ]
  },
  {
   "cell_type": "code",
   "execution_count": 4,
   "id": "5d9b833e",
   "metadata": {
    "execution": {
     "iopub.execute_input": "2023-05-16T11:17:59.813361Z",
     "iopub.status.busy": "2023-05-16T11:17:59.813043Z",
     "iopub.status.idle": "2023-05-16T11:17:59.819323Z",
     "shell.execute_reply": "2023-05-16T11:17:59.818031Z"
    },
    "papermill": {
     "duration": 0.019751,
     "end_time": "2023-05-16T11:17:59.821546",
     "exception": false,
     "start_time": "2023-05-16T11:17:59.801795",
     "status": "completed"
    },
    "tags": []
   },
   "outputs": [],
   "source": [
    "def removePunct(text):\n",
    "    text = text.lower()\n",
    "    text = re.sub(r\"[^\\w\\s]\", \"\", text)\n",
    "    text = re.sub(r\" +\", \" \", text)\n",
    "    return text\n",
    "\n",
    "\n",
    "def preProcess(data):\n",
    "    temp = []\n",
    "    for d in data:\n",
    "        text = removePunct(d)\n",
    "        temp.append(text)\n",
    "    return temp\n"
   ]
  },
  {
   "cell_type": "code",
   "execution_count": 5,
   "id": "ef4bc560",
   "metadata": {
    "execution": {
     "iopub.execute_input": "2023-05-16T11:17:59.844268Z",
     "iopub.status.busy": "2023-05-16T11:17:59.843374Z",
     "iopub.status.idle": "2023-05-16T11:17:59.851889Z",
     "shell.execute_reply": "2023-05-16T11:17:59.850948Z"
    },
    "papermill": {
     "duration": 0.02227,
     "end_time": "2023-05-16T11:17:59.854233",
     "exception": false,
     "start_time": "2023-05-16T11:17:59.831963",
     "status": "completed"
    },
    "tags": []
   },
   "outputs": [],
   "source": [
    "def getData(text):\n",
    "    x = []\n",
    "    y = []\n",
    "    data = text.split(\"\\n\")\n",
    "    for d in data:\n",
    "        try:\n",
    "            x_, y_ = d.split(\"\\t\")\n",
    "            x.append(x_)\n",
    "            y.append(y_)\n",
    "        except:\n",
    "            pass\n",
    "    x = preProcess(x)\n",
    "    y = preProcess(y)\n",
    "    return [x, y]\n",
    "\n",
    "def removeLongSentence(data_all, n):\n",
    "    x_fin = []\n",
    "    for idx,ele in enumerate(data_all):\n",
    "        ele_split = ele.split()\n",
    "        if len(ele_split) < n and len(ele_split) > 1:\n",
    "            x_fin.append(ele)            \n",
    "    return x_fin"
   ]
  },
  {
   "cell_type": "code",
   "execution_count": 6,
   "id": "6dd75d27",
   "metadata": {
    "execution": {
     "iopub.execute_input": "2023-05-16T11:17:59.876242Z",
     "iopub.status.busy": "2023-05-16T11:17:59.875966Z",
     "iopub.status.idle": "2023-05-16T11:17:59.903582Z",
     "shell.execute_reply": "2023-05-16T11:17:59.902615Z"
    },
    "papermill": {
     "duration": 0.04113,
     "end_time": "2023-05-16T11:17:59.905961",
     "exception": false,
     "start_time": "2023-05-16T11:17:59.864831",
     "status": "completed"
    },
    "tags": []
   },
   "outputs": [],
   "source": [
    "train_data = readFile(\"/kaggle/input/nlp-project/train.txt\")\n",
    "test_data = readFile(\"/kaggle/input/nlp-project/dev.txt\")\n",
    "# ngram = 4"
   ]
  },
  {
   "cell_type": "code",
   "execution_count": 7,
   "id": "73882efe",
   "metadata": {
    "execution": {
     "iopub.execute_input": "2023-05-16T11:17:59.928732Z",
     "iopub.status.busy": "2023-05-16T11:17:59.928456Z",
     "iopub.status.idle": "2023-05-16T11:18:00.115590Z",
     "shell.execute_reply": "2023-05-16T11:18:00.114443Z"
    },
    "papermill": {
     "duration": 0.201785,
     "end_time": "2023-05-16T11:18:00.118500",
     "exception": false,
     "start_time": "2023-05-16T11:17:59.916715",
     "status": "completed"
    },
    "tags": []
   },
   "outputs": [],
   "source": [
    "_, x_train_ori = getData(train_data)\n",
    "_, x_test = getData(test_data)"
   ]
  },
  {
   "cell_type": "code",
   "execution_count": 8,
   "id": "0306b2a4",
   "metadata": {
    "execution": {
     "iopub.execute_input": "2023-05-16T11:18:00.142185Z",
     "iopub.status.busy": "2023-05-16T11:18:00.141268Z",
     "iopub.status.idle": "2023-05-16T11:18:00.150810Z",
     "shell.execute_reply": "2023-05-16T11:18:00.149739Z"
    },
    "papermill": {
     "duration": 0.023659,
     "end_time": "2023-05-16T11:18:00.153156",
     "exception": false,
     "start_time": "2023-05-16T11:18:00.129497",
     "status": "completed"
    },
    "tags": []
   },
   "outputs": [],
   "source": [
    "x_train, x_val = train_test_split(x_train_ori, test_size=0.1, random_state=42)"
   ]
  },
  {
   "cell_type": "code",
   "execution_count": 9,
   "id": "e70c0e1a",
   "metadata": {
    "execution": {
     "iopub.execute_input": "2023-05-16T11:18:00.175099Z",
     "iopub.status.busy": "2023-05-16T11:18:00.174801Z",
     "iopub.status.idle": "2023-05-16T11:18:00.191409Z",
     "shell.execute_reply": "2023-05-16T11:18:00.190346Z"
    },
    "papermill": {
     "duration": 0.030282,
     "end_time": "2023-05-16T11:18:00.193679",
     "exception": false,
     "start_time": "2023-05-16T11:18:00.163397",
     "status": "completed"
    },
    "tags": []
   },
   "outputs": [],
   "source": [
    "max_sent_len_limit = 100\n",
    "x_train_red = removeLongSentence(x_train,max_sent_len_limit)\n",
    "x_val_red = removeLongSentence(x_val,max_sent_len_limit)\n",
    "x_test_red = removeLongSentence(x_test,max_sent_len_limit)"
   ]
  },
  {
   "cell_type": "code",
   "execution_count": 10,
   "id": "f2c53ed7",
   "metadata": {
    "execution": {
     "iopub.execute_input": "2023-05-16T11:18:00.215774Z",
     "iopub.status.busy": "2023-05-16T11:18:00.215487Z",
     "iopub.status.idle": "2023-05-16T11:18:00.222867Z",
     "shell.execute_reply": "2023-05-16T11:18:00.221873Z"
    },
    "papermill": {
     "duration": 0.02099,
     "end_time": "2023-05-16T11:18:00.225340",
     "exception": false,
     "start_time": "2023-05-16T11:18:00.204350",
     "status": "completed"
    },
    "tags": []
   },
   "outputs": [
    {
     "data": {
      "text/plain": [
       "895"
      ]
     },
     "execution_count": 10,
     "metadata": {},
     "output_type": "execute_result"
    }
   ],
   "source": [
    "len(x_test_red)"
   ]
  },
  {
   "cell_type": "code",
   "execution_count": 11,
   "id": "91e7e831",
   "metadata": {
    "execution": {
     "iopub.execute_input": "2023-05-16T11:18:00.249006Z",
     "iopub.status.busy": "2023-05-16T11:18:00.248311Z",
     "iopub.status.idle": "2023-05-16T11:18:00.254315Z",
     "shell.execute_reply": "2023-05-16T11:18:00.253346Z"
    },
    "papermill": {
     "duration": 0.020009,
     "end_time": "2023-05-16T11:18:00.256604",
     "exception": false,
     "start_time": "2023-05-16T11:18:00.236595",
     "status": "completed"
    },
    "tags": []
   },
   "outputs": [
    {
     "data": {
      "text/plain": [
       "6731"
      ]
     },
     "execution_count": 11,
     "metadata": {},
     "output_type": "execute_result"
    }
   ],
   "source": [
    "len(x_train_red)"
   ]
  },
  {
   "cell_type": "code",
   "execution_count": 12,
   "id": "924b672d",
   "metadata": {
    "execution": {
     "iopub.execute_input": "2023-05-16T11:18:00.280345Z",
     "iopub.status.busy": "2023-05-16T11:18:00.279343Z",
     "iopub.status.idle": "2023-05-16T11:18:00.286830Z",
     "shell.execute_reply": "2023-05-16T11:18:00.285886Z"
    },
    "papermill": {
     "duration": 0.021882,
     "end_time": "2023-05-16T11:18:00.289244",
     "exception": false,
     "start_time": "2023-05-16T11:18:00.267362",
     "status": "completed"
    },
    "tags": []
   },
   "outputs": [],
   "source": [
    "def trainTokenizeData(data_all, max_sent_len_limit):\n",
    "    data_all = removeLongSentence(data_all, max_sent_len_limit)\n",
    "    x_tokenizer = Tokenizer(oov_token='<UNK>', num_words=4451)\n",
    "    x_tokenizer.fit_on_texts(data_all)\n",
    "    x_encoded = x_tokenizer.texts_to_sequences(data_all)\n",
    "    return x_encoded, x_tokenizer\n",
    "\n",
    "\n",
    "def testTokenizeData(data_all, x_tokenizer, max_sent_len_limit):\n",
    "    data_all = removeLongSentence(data_all, max_sent_len_limit)\n",
    "    x_encoded = x_tokenizer.texts_to_sequences(data_all)\n",
    "    return x_encoded\n"
   ]
  },
  {
   "cell_type": "code",
   "execution_count": 13,
   "id": "f06ce251",
   "metadata": {
    "execution": {
     "iopub.execute_input": "2023-05-16T11:18:00.314032Z",
     "iopub.status.busy": "2023-05-16T11:18:00.313158Z",
     "iopub.status.idle": "2023-05-16T11:18:00.595219Z",
     "shell.execute_reply": "2023-05-16T11:18:00.594234Z"
    },
    "papermill": {
     "duration": 0.297093,
     "end_time": "2023-05-16T11:18:00.597777",
     "exception": false,
     "start_time": "2023-05-16T11:18:00.300684",
     "status": "completed"
    },
    "tags": []
   },
   "outputs": [],
   "source": [
    "x_train_seq, train_tokenizer = trainTokenizeData(x_train_red, max_sent_len_limit)\n",
    "x_dev_seq = testTokenizeData(x_val_red, train_tokenizer, max_sent_len_limit)\n",
    "x_test_seq = testTokenizeData(x_test_red, train_tokenizer, max_sent_len_limit)\n"
   ]
  },
  {
   "cell_type": "code",
   "execution_count": 14,
   "id": "47021b99",
   "metadata": {
    "execution": {
     "iopub.execute_input": "2023-05-16T11:18:00.620780Z",
     "iopub.status.busy": "2023-05-16T11:18:00.620485Z",
     "iopub.status.idle": "2023-05-16T11:18:00.627317Z",
     "shell.execute_reply": "2023-05-16T11:18:00.626309Z"
    },
    "papermill": {
     "duration": 0.020999,
     "end_time": "2023-05-16T11:18:00.629637",
     "exception": false,
     "start_time": "2023-05-16T11:18:00.608638",
     "status": "completed"
    },
    "tags": []
   },
   "outputs": [],
   "source": [
    "def getMaxLen(x_train, x_dev, x_test):\n",
    "    max1 = max([len(x) for x in x_train])\n",
    "    max2 = max([len(x) for x in x_dev])\n",
    "    max3 = max([len(x) for x in x_test])\n",
    "    return max(max1, max2, max3)\n"
   ]
  },
  {
   "cell_type": "code",
   "execution_count": 15,
   "id": "248892fb",
   "metadata": {
    "execution": {
     "iopub.execute_input": "2023-05-16T11:18:00.652417Z",
     "iopub.status.busy": "2023-05-16T11:18:00.651474Z",
     "iopub.status.idle": "2023-05-16T11:18:00.659195Z",
     "shell.execute_reply": "2023-05-16T11:18:00.658303Z"
    },
    "papermill": {
     "duration": 0.02147,
     "end_time": "2023-05-16T11:18:00.661527",
     "exception": false,
     "start_time": "2023-05-16T11:18:00.640057",
     "status": "completed"
    },
    "tags": []
   },
   "outputs": [],
   "source": [
    "def splitPadSequences(X_tokenized, max_sequence_len, total_words=4451):\n",
    "    input_sequences = []\n",
    "    for ele in X_tokenized:\n",
    "#         for i in range(len(ele)-ngram+1):\n",
    "#             n_gram_sequence = ele[i:i+ngram]\n",
    "#             input_sequences.append(n_gram_sequence)\n",
    "        for i in range(1, len(ele)):\n",
    "            n_gram_sequence = ele[:i+1]\n",
    "            input_sequences.append(n_gram_sequence)\n",
    "\n",
    "    input_sequences = np.array(input_sequences)\n",
    "    input_sequences = np.array(pad_sequences(input_sequences, maxlen=max_sequence_len, padding='pre'))\n",
    "    predictors, label = input_sequences[:, :-1], input_sequences[:, -1]\n",
    "    label = to_categorical(label, num_classes=total_words)\n",
    "\n",
    "    return predictors, label\n"
   ]
  },
  {
   "cell_type": "code",
   "execution_count": 16,
   "id": "763bfbe0",
   "metadata": {
    "execution": {
     "iopub.execute_input": "2023-05-16T11:18:00.685118Z",
     "iopub.status.busy": "2023-05-16T11:18:00.683560Z",
     "iopub.status.idle": "2023-05-16T11:18:01.438057Z",
     "shell.execute_reply": "2023-05-16T11:18:01.436810Z"
    },
    "papermill": {
     "duration": 0.768884,
     "end_time": "2023-05-16T11:18:01.440909",
     "exception": false,
     "start_time": "2023-05-16T11:18:00.672025",
     "status": "completed"
    },
    "tags": []
   },
   "outputs": [
    {
     "name": "stderr",
     "output_type": "stream",
     "text": [
      "/opt/conda/lib/python3.7/site-packages/ipykernel_launcher.py:11: VisibleDeprecationWarning: Creating an ndarray from ragged nested sequences (which is a list-or-tuple of lists-or-tuples-or ndarrays with different lengths or shapes) is deprecated. If you meant to do this, you must specify 'dtype=object' when creating the ndarray.\n",
      "  # This is added back by InteractiveShellApp.init_path()\n"
     ]
    }
   ],
   "source": [
    "max_len = getMaxLen(x_train_seq, x_dev_seq, x_test_seq)\n",
    "x_train_sp, y_train_sp = splitPadSequences(x_train_seq, max_len)\n",
    "x_val_sp, y_val_sp = splitPadSequences(x_dev_seq, max_len)\n",
    "x_test_sp, y_test_sp = splitPadSequences(x_test_seq, max_len)\n"
   ]
  },
  {
   "cell_type": "code",
   "execution_count": 17,
   "id": "af5f0b44",
   "metadata": {
    "execution": {
     "iopub.execute_input": "2023-05-16T11:18:01.466384Z",
     "iopub.status.busy": "2023-05-16T11:18:01.464673Z",
     "iopub.status.idle": "2023-05-16T11:18:01.473778Z",
     "shell.execute_reply": "2023-05-16T11:18:01.472815Z"
    },
    "papermill": {
     "duration": 0.023758,
     "end_time": "2023-05-16T11:18:01.476126",
     "exception": false,
     "start_time": "2023-05-16T11:18:01.452368",
     "status": "completed"
    },
    "tags": []
   },
   "outputs": [
    {
     "data": {
      "text/plain": [
       "(75075, 86)"
      ]
     },
     "execution_count": 17,
     "metadata": {},
     "output_type": "execute_result"
    }
   ],
   "source": [
    "x_train_sp.shape"
   ]
  },
  {
   "cell_type": "code",
   "execution_count": 18,
   "id": "484db80b",
   "metadata": {
    "execution": {
     "iopub.execute_input": "2023-05-16T11:18:01.499571Z",
     "iopub.status.busy": "2023-05-16T11:18:01.498620Z",
     "iopub.status.idle": "2023-05-16T11:18:01.505653Z",
     "shell.execute_reply": "2023-05-16T11:18:01.504507Z"
    },
    "papermill": {
     "duration": 0.020959,
     "end_time": "2023-05-16T11:18:01.507889",
     "exception": false,
     "start_time": "2023-05-16T11:18:01.486930",
     "status": "completed"
    },
    "tags": []
   },
   "outputs": [
    {
     "data": {
      "text/plain": [
       "(75075, 4451)"
      ]
     },
     "execution_count": 18,
     "metadata": {},
     "output_type": "execute_result"
    }
   ],
   "source": [
    "y_train_sp.shape"
   ]
  },
  {
   "cell_type": "code",
   "execution_count": 19,
   "id": "e96b3311",
   "metadata": {
    "execution": {
     "iopub.execute_input": "2023-05-16T11:18:01.531682Z",
     "iopub.status.busy": "2023-05-16T11:18:01.530752Z",
     "iopub.status.idle": "2023-05-16T11:18:01.537519Z",
     "shell.execute_reply": "2023-05-16T11:18:01.536459Z"
    },
    "papermill": {
     "duration": 0.020964,
     "end_time": "2023-05-16T11:18:01.539758",
     "exception": false,
     "start_time": "2023-05-16T11:18:01.518794",
     "status": "completed"
    },
    "tags": []
   },
   "outputs": [
    {
     "data": {
      "text/plain": [
       "(10499, 86)"
      ]
     },
     "execution_count": 19,
     "metadata": {},
     "output_type": "execute_result"
    }
   ],
   "source": [
    "x_test_sp.shape"
   ]
  },
  {
   "cell_type": "code",
   "execution_count": 20,
   "id": "13d7f361",
   "metadata": {
    "execution": {
     "iopub.execute_input": "2023-05-16T11:18:01.564180Z",
     "iopub.status.busy": "2023-05-16T11:18:01.562633Z",
     "iopub.status.idle": "2023-05-16T11:18:01.569648Z",
     "shell.execute_reply": "2023-05-16T11:18:01.568651Z"
    },
    "papermill": {
     "duration": 0.02117,
     "end_time": "2023-05-16T11:18:01.571968",
     "exception": false,
     "start_time": "2023-05-16T11:18:01.550798",
     "status": "completed"
    },
    "tags": []
   },
   "outputs": [
    {
     "data": {
      "text/plain": [
       "(10499, 4451)"
      ]
     },
     "execution_count": 20,
     "metadata": {},
     "output_type": "execute_result"
    }
   ],
   "source": [
    "y_test_sp.shape"
   ]
  },
  {
   "cell_type": "code",
   "execution_count": 21,
   "id": "42f6546d",
   "metadata": {
    "execution": {
     "iopub.execute_input": "2023-05-16T11:18:01.597175Z",
     "iopub.status.busy": "2023-05-16T11:18:01.595455Z",
     "iopub.status.idle": "2023-05-16T11:18:01.603773Z",
     "shell.execute_reply": "2023-05-16T11:18:01.602793Z"
    },
    "papermill": {
     "duration": 0.02284,
     "end_time": "2023-05-16T11:18:01.606100",
     "exception": false,
     "start_time": "2023-05-16T11:18:01.583260",
     "status": "completed"
    },
    "tags": []
   },
   "outputs": [],
   "source": [
    "def createModel(max_seq_len, total_words, bidirectional=False, dropout = 0.2):\n",
    "    model = Sequential()\n",
    "    model.add(Embedding(total_words, 100, input_length=max_seq_len-1,mask_zero=True))\n",
    "    if bidirectional:\n",
    "        model.add(Bidirectional(LSTM(128)))\n",
    "    else:\n",
    "        model.add(LSTM(128))\n",
    "    model.add(Dropout(dropout))\n",
    "    model.add(Dense(total_words, activation='softmax'))\n",
    "    model.compile(loss='categorical_crossentropy',\n",
    "                  optimizer='adam', metrics=['acc'])\n",
    "    model.summary()\n",
    "    print(\"\\n\")\n",
    "    return model\n"
   ]
  },
  {
   "cell_type": "code",
   "execution_count": 22,
   "id": "b33661a7",
   "metadata": {
    "execution": {
     "iopub.execute_input": "2023-05-16T11:18:01.630516Z",
     "iopub.status.busy": "2023-05-16T11:18:01.629132Z",
     "iopub.status.idle": "2023-05-16T11:18:01.635483Z",
     "shell.execute_reply": "2023-05-16T11:18:01.634519Z"
    },
    "papermill": {
     "duration": 0.020473,
     "end_time": "2023-05-16T11:18:01.637683",
     "exception": false,
     "start_time": "2023-05-16T11:18:01.617210",
     "status": "completed"
    },
    "tags": []
   },
   "outputs": [],
   "source": [
    "def plot_loss(history):\n",
    "    plt.plot(history.history['acc'])\n",
    "    plt.plot(history.history['val_acc'])\n",
    "    plt.title('model accuracy')\n",
    "    plt.ylabel('accuracy')\n",
    "    plt.xlabel('epoch')\n",
    "    plt.legend(['train', 'test'], loc='upper left')\n",
    "    plt.show()"
   ]
  },
  {
   "cell_type": "code",
   "execution_count": 23,
   "id": "8f746373",
   "metadata": {
    "execution": {
     "iopub.execute_input": "2023-05-16T11:18:01.662532Z",
     "iopub.status.busy": "2023-05-16T11:18:01.660842Z",
     "iopub.status.idle": "2023-05-16T11:18:01.667847Z",
     "shell.execute_reply": "2023-05-16T11:18:01.666930Z"
    },
    "papermill": {
     "duration": 0.021377,
     "end_time": "2023-05-16T11:18:01.670246",
     "exception": false,
     "start_time": "2023-05-16T11:18:01.648869",
     "status": "completed"
    },
    "tags": []
   },
   "outputs": [],
   "source": [
    "def trainModel(model, x_train, y_train, x_val, y_val, epochs=100, batch_size=128):\n",
    "    # filepath = \"model.h5\"\n",
    "    # checkpoint = ModelCheckpoint(filepath, monitor='val_loss', verbose=1,\n",
    "    #                              save_best_only=True, mode='min')\n",
    "    early = EarlyStopping(monitor=\"val_loss\",\n",
    "                          patience=5, verbose=1)\n",
    "    callbacks_list = [early]\n",
    "    history = model.fit(x_train, y_train, epochs=epochs,\n",
    "                        batch_size = batch_size, verbose=2, callbacks=callbacks_list, validation_data=(x_val, y_val))\n",
    "    return history\n"
   ]
  },
  {
   "cell_type": "code",
   "execution_count": 24,
   "id": "c668ca50",
   "metadata": {
    "execution": {
     "iopub.execute_input": "2023-05-16T11:18:01.694608Z",
     "iopub.status.busy": "2023-05-16T11:18:01.693751Z",
     "iopub.status.idle": "2023-05-16T11:18:01.706910Z",
     "shell.execute_reply": "2023-05-16T11:18:01.705934Z"
    },
    "papermill": {
     "duration": 0.027673,
     "end_time": "2023-05-16T11:18:01.709271",
     "exception": false,
     "start_time": "2023-05-16T11:18:01.681598",
     "status": "completed"
    },
    "tags": []
   },
   "outputs": [],
   "source": [
    "def calculate_preplexity(dataset_line,y_pred, Y):\n",
    "    val = 0\n",
    "    for idx in range(len(dataset_line)-1):\n",
    "        Y_idx = np.argmax(Y[idx])\n",
    "        p_val = y_pred[idx][Y_idx]\n",
    "        val += np.log2(p_val)\n",
    "    val = -1*(val/(len(dataset_line)-1))\n",
    "    return 2**val\n",
    "\n",
    "\n",
    "def get_all_preplexity_scores(dataset_lines, y_pred, Y):\n",
    "    preplexity_scores = []\n",
    "    counter = 0\n",
    "    next_counter = 0\n",
    "    for idx, ele in enumerate(dataset_lines):\n",
    "        next_counter += (len(ele) - 1)\n",
    "        preplexity_scores.append(calculate_preplexity(\n",
    "            ele, y_pred[counter:next_counter], Y[counter:next_counter]))\n",
    "        counter = next_counter\n",
    "    return preplexity_scores, np.mean(preplexity_scores)\n",
    "\n",
    "def evaluate_model(model, datalines, X_test, Y_test, model_name):\n",
    "    y_pred_test = model.predict(X_test)\n",
    "    preplexity_scores_test, mean_score_test = get_all_preplexity_scores(\n",
    "        datalines, y_pred_test, Y_test)\n",
    "    y_pred_fl=np.argmax(y_pred_test, axis=1)\n",
    "    y_test_fl=np.argmax(Y_test, axis=1)\n",
    "    print(\"\\n\",model_name,\" Mean Perplexity Score is: \",mean_score_test)\n",
    "    print(\"\\nAccuracy Score:\", accuracy_score(y_test_fl, y_pred_fl))\n",
    "    print(\"\\nPrecision Score:\", precision_score(y_test_fl, y_pred_fl, average='macro'))\n",
    "    print(\"\\nRecall Score:\", recall_score(y_test_fl, y_pred_fl, average='macro'))\n",
    "    print(\"\\nF1 Score:\", f1_score(y_test_fl, y_pred_fl, average='macro'),\"\\n\\n\")\n",
    "    \n",
    "    all_rouge_scores, last_n_words = get_all_rouge_scores(model,x_test_red,train_tokenizer,max_len)\n",
    "    plot_rouge_scores(all_rouge_scores, last_n_words)\n",
    "    \n",
    "#     print(\"\\nClassification Report:\\n\", classification_report(y_test_fl, y_pred_fl))"
   ]
  },
  {
   "cell_type": "code",
   "execution_count": 25,
   "id": "abcd3b44",
   "metadata": {
    "execution": {
     "iopub.execute_input": "2023-05-16T11:18:01.733407Z",
     "iopub.status.busy": "2023-05-16T11:18:01.733085Z",
     "iopub.status.idle": "2023-05-16T11:18:01.748089Z",
     "shell.execute_reply": "2023-05-16T11:18:01.747090Z"
    },
    "papermill": {
     "duration": 0.029876,
     "end_time": "2023-05-16T11:18:01.750526",
     "exception": false,
     "start_time": "2023-05-16T11:18:01.720650",
     "status": "completed"
    },
    "tags": []
   },
   "outputs": [],
   "source": [
    "def generate_text(seed_text, next_words, max_sequence_len, tokenizer, model):\n",
    "    fin_text = \"\"\n",
    "    for i in range(next_words):\n",
    "        token_list = tokenizer.texts_to_sequences([seed_text])[0]\n",
    "        token_list = np.array(pad_sequences([token_list], maxlen=max_sequence_len-1, padding='pre'))\n",
    "        predicted = model.predict(token_list,verbose = 0)\n",
    "        predicted = np.argmax(predicted)\n",
    "        output_word = \"\"\n",
    "        for index, word in tokenizer.index_word.items():\n",
    "            if index == predicted:\n",
    "                output_word = word\n",
    "                break\n",
    "        fin_text += str(output_word) + \" \"\n",
    "        seed_text += str(output_word) + \" \"\n",
    "    return fin_text\n",
    "\n",
    "def list_to_string(x_list_elements):\n",
    "    fin_str = \"\"\n",
    "    for ele in x_list_elements:\n",
    "        fin_str += ele + \" \"\n",
    "    return fin_str\n",
    "\n",
    "def get_rouge_score(model,last_n_words,x_sentences,tokenizer,max_sequence_len):\n",
    "    rouge_scores = []\n",
    "    rouge = Rouge()\n",
    "    for idx,ele in enumerate(x_sentences):\n",
    "        ele_fin = ele.split()[:-last_n_words]\n",
    "        ele_short_sent = list_to_string(ele_fin)\n",
    "        ele_true_token = ele.split()[-last_n_words:]\n",
    "        ele_true_sent = list_to_string(ele_true_token)\n",
    "        pred_sent = generate_text(ele_short_sent,last_n_words,max_sequence_len,tokenizer,model)\n",
    "        scores = rouge.get_scores(pred_sent, ele_true_sent, avg=True)\n",
    "        rouge_scores.append(scores['rouge-l']['f'])\n",
    "    return rouge_scores\n",
    "\n",
    "def get_all_rouge_scores(model,x_sentences,tokenizer,max_sequence_len):\n",
    "    last_n_words = [3,4,5]\n",
    "    all_rouge_scores = []\n",
    "    for ele in last_n_words:\n",
    "        r_scores = get_rouge_score(model,ele,x_test_red,train_tokenizer,max_len)\n",
    "        all_rouge_scores.append(np.mean(r_scores))\n",
    "        print(\"Rouge Scores done for last \", ele , \" words\")\n",
    "    return all_rouge_scores, last_n_words\n",
    "\n",
    "def plot_rouge_scores(all_rouge_scores_mean,last_n_words):\n",
    "    plt.xlabel(\"Predicted Words\")\n",
    "    plt.ylabel(\"Rouge Scores\")\n",
    "    plt.title(\"Predicted Words vs Rouge Scores\")\n",
    "    # plot lines\n",
    "    last_n_words = [format(x, 'd') for x in last_n_words]\n",
    "    plt.bar(last_n_words, all_rouge_scores_mean,color ='b',width = 0.4)\n",
    "    plt.show()"
   ]
  },
  {
   "cell_type": "code",
   "execution_count": 26,
   "id": "becfe93d",
   "metadata": {
    "execution": {
     "iopub.execute_input": "2023-05-16T11:18:01.774346Z",
     "iopub.status.busy": "2023-05-16T11:18:01.774042Z",
     "iopub.status.idle": "2023-05-16T11:43:48.157772Z",
     "shell.execute_reply": "2023-05-16T11:43:48.156658Z"
    },
    "papermill": {
     "duration": 1546.415027,
     "end_time": "2023-05-16T11:43:48.177060",
     "exception": false,
     "start_time": "2023-05-16T11:18:01.762033",
     "status": "completed"
    },
    "tags": []
   },
   "outputs": [
    {
     "name": "stdout",
     "output_type": "stream",
     "text": [
      "Model: \"sequential\"\n",
      "_________________________________________________________________\n",
      " Layer (type)                Output Shape              Param #   \n",
      "=================================================================\n",
      " embedding (Embedding)       (None, 86, 100)           445100    \n",
      "                                                                 \n",
      " lstm (LSTM)                 (None, 128)               117248    \n",
      "                                                                 \n",
      " dropout (Dropout)           (None, 128)               0         \n",
      "                                                                 \n",
      " dense (Dense)               (None, 4451)              574179    \n",
      "                                                                 \n",
      "=================================================================\n",
      "Total params: 1,136,527\n",
      "Trainable params: 1,136,527\n",
      "Non-trainable params: 0\n",
      "_________________________________________________________________\n",
      "\n",
      "\n",
      "Epoch 1/100\n",
      "74/74 - 42s - loss: 7.2944 - acc: 0.0521 - val_loss: 6.3726 - val_acc: 0.0569 - 42s/epoch - 573ms/step\n",
      "Epoch 2/100\n",
      "74/74 - 29s - loss: 6.5030 - acc: 0.0532 - val_loss: 6.2302 - val_acc: 0.0540 - 29s/epoch - 397ms/step\n",
      "Epoch 3/100\n",
      "74/74 - 26s - loss: 6.3963 - acc: 0.0560 - val_loss: 6.1678 - val_acc: 0.0975 - 26s/epoch - 357ms/step\n",
      "Epoch 4/100\n",
      "74/74 - 26s - loss: 6.3243 - acc: 0.0708 - val_loss: 6.1282 - val_acc: 0.1075 - 26s/epoch - 349ms/step\n",
      "Epoch 5/100\n",
      "74/74 - 25s - loss: 6.2656 - acc: 0.0757 - val_loss: 6.0866 - val_acc: 0.1125 - 25s/epoch - 337ms/step\n",
      "Epoch 6/100\n",
      "74/74 - 24s - loss: 6.2158 - acc: 0.0783 - val_loss: 6.0483 - val_acc: 0.1120 - 24s/epoch - 321ms/step\n",
      "Epoch 7/100\n",
      "74/74 - 24s - loss: 6.1662 - acc: 0.0809 - val_loss: 6.0002 - val_acc: 0.1162 - 24s/epoch - 320ms/step\n",
      "Epoch 8/100\n",
      "74/74 - 22s - loss: 6.1122 - acc: 0.0868 - val_loss: 5.9533 - val_acc: 0.1218 - 22s/epoch - 304ms/step\n",
      "Epoch 9/100\n",
      "74/74 - 23s - loss: 6.0523 - acc: 0.0917 - val_loss: 5.9013 - val_acc: 0.1262 - 23s/epoch - 316ms/step\n",
      "Epoch 10/100\n",
      "74/74 - 24s - loss: 5.9862 - acc: 0.0978 - val_loss: 5.8506 - val_acc: 0.1307 - 24s/epoch - 324ms/step\n",
      "Epoch 11/100\n",
      "74/74 - 22s - loss: 5.9170 - acc: 0.1017 - val_loss: 5.7922 - val_acc: 0.1313 - 22s/epoch - 302ms/step\n",
      "Epoch 12/100\n",
      "74/74 - 24s - loss: 5.8452 - acc: 0.1041 - val_loss: 5.7346 - val_acc: 0.1324 - 24s/epoch - 328ms/step\n",
      "Epoch 13/100\n",
      "74/74 - 23s - loss: 5.7733 - acc: 0.1086 - val_loss: 5.6844 - val_acc: 0.1387 - 23s/epoch - 316ms/step\n",
      "Epoch 14/100\n",
      "74/74 - 23s - loss: 5.7056 - acc: 0.1144 - val_loss: 5.6454 - val_acc: 0.1376 - 23s/epoch - 305ms/step\n",
      "Epoch 15/100\n",
      "74/74 - 23s - loss: 5.6436 - acc: 0.1200 - val_loss: 5.6065 - val_acc: 0.1416 - 23s/epoch - 307ms/step\n",
      "Epoch 16/100\n",
      "74/74 - 23s - loss: 5.5878 - acc: 0.1240 - val_loss: 5.5805 - val_acc: 0.1457 - 23s/epoch - 310ms/step\n",
      "Epoch 17/100\n",
      "74/74 - 23s - loss: 5.5391 - acc: 0.1268 - val_loss: 5.5529 - val_acc: 0.1439 - 23s/epoch - 316ms/step\n",
      "Epoch 18/100\n",
      "74/74 - 23s - loss: 5.4924 - acc: 0.1299 - val_loss: 5.5256 - val_acc: 0.1459 - 23s/epoch - 312ms/step\n",
      "Epoch 19/100\n",
      "74/74 - 22s - loss: 5.4514 - acc: 0.1324 - val_loss: 5.5058 - val_acc: 0.1478 - 22s/epoch - 294ms/step\n",
      "Epoch 20/100\n",
      "74/74 - 23s - loss: 5.4138 - acc: 0.1339 - val_loss: 5.4801 - val_acc: 0.1488 - 23s/epoch - 309ms/step\n",
      "Epoch 21/100\n",
      "74/74 - 23s - loss: 5.3746 - acc: 0.1367 - val_loss: 5.4722 - val_acc: 0.1494 - 23s/epoch - 307ms/step\n",
      "Epoch 22/100\n",
      "74/74 - 22s - loss: 5.3392 - acc: 0.1399 - val_loss: 5.4530 - val_acc: 0.1490 - 22s/epoch - 300ms/step\n",
      "Epoch 23/100\n",
      "74/74 - 23s - loss: 5.3056 - acc: 0.1413 - val_loss: 5.4410 - val_acc: 0.1502 - 23s/epoch - 310ms/step\n",
      "Epoch 24/100\n",
      "74/74 - 23s - loss: 5.2725 - acc: 0.1429 - val_loss: 5.4125 - val_acc: 0.1542 - 23s/epoch - 317ms/step\n",
      "Epoch 25/100\n",
      "74/74 - 22s - loss: 5.2405 - acc: 0.1445 - val_loss: 5.4062 - val_acc: 0.1519 - 22s/epoch - 299ms/step\n",
      "Epoch 26/100\n",
      "74/74 - 22s - loss: 5.2049 - acc: 0.1461 - val_loss: 5.3904 - val_acc: 0.1546 - 22s/epoch - 301ms/step\n",
      "Epoch 27/100\n",
      "74/74 - 23s - loss: 5.1711 - acc: 0.1489 - val_loss: 5.3773 - val_acc: 0.1554 - 23s/epoch - 309ms/step\n",
      "Epoch 28/100\n",
      "74/74 - 22s - loss: 5.1414 - acc: 0.1509 - val_loss: 5.3623 - val_acc: 0.1579 - 22s/epoch - 302ms/step\n",
      "Epoch 29/100\n",
      "74/74 - 22s - loss: 5.1068 - acc: 0.1530 - val_loss: 5.3477 - val_acc: 0.1588 - 22s/epoch - 292ms/step\n",
      "Epoch 30/100\n",
      "74/74 - 22s - loss: 5.0748 - acc: 0.1548 - val_loss: 5.3330 - val_acc: 0.1598 - 22s/epoch - 302ms/step\n",
      "Epoch 31/100\n",
      "74/74 - 22s - loss: 5.0422 - acc: 0.1581 - val_loss: 5.3217 - val_acc: 0.1606 - 22s/epoch - 299ms/step\n",
      "Epoch 32/100\n",
      "74/74 - 21s - loss: 5.0098 - acc: 0.1603 - val_loss: 5.3022 - val_acc: 0.1635 - 21s/epoch - 288ms/step\n",
      "Epoch 33/100\n",
      "74/74 - 22s - loss: 4.9761 - acc: 0.1624 - val_loss: 5.2966 - val_acc: 0.1677 - 22s/epoch - 302ms/step\n",
      "Epoch 34/100\n",
      "74/74 - 22s - loss: 4.9410 - acc: 0.1669 - val_loss: 5.2757 - val_acc: 0.1686 - 22s/epoch - 301ms/step\n",
      "Epoch 35/100\n",
      "74/74 - 21s - loss: 4.9055 - acc: 0.1701 - val_loss: 5.2582 - val_acc: 0.1725 - 21s/epoch - 287ms/step\n",
      "Epoch 36/100\n",
      "74/74 - 22s - loss: 4.8688 - acc: 0.1730 - val_loss: 5.2501 - val_acc: 0.1759 - 22s/epoch - 302ms/step\n",
      "Epoch 37/100\n",
      "74/74 - 22s - loss: 4.8336 - acc: 0.1777 - val_loss: 5.2421 - val_acc: 0.1776 - 22s/epoch - 293ms/step\n",
      "Epoch 38/100\n",
      "74/74 - 22s - loss: 4.7988 - acc: 0.1808 - val_loss: 5.2340 - val_acc: 0.1752 - 22s/epoch - 291ms/step\n",
      "Epoch 39/100\n",
      "74/74 - 22s - loss: 4.7634 - acc: 0.1828 - val_loss: 5.2135 - val_acc: 0.1777 - 22s/epoch - 302ms/step\n",
      "Epoch 40/100\n",
      "74/74 - 22s - loss: 4.7272 - acc: 0.1873 - val_loss: 5.2038 - val_acc: 0.1817 - 22s/epoch - 303ms/step\n",
      "Epoch 41/100\n",
      "74/74 - 22s - loss: 4.6931 - acc: 0.1891 - val_loss: 5.1944 - val_acc: 0.1820 - 22s/epoch - 301ms/step\n",
      "Epoch 42/100\n",
      "74/74 - 21s - loss: 4.6588 - acc: 0.1916 - val_loss: 5.1856 - val_acc: 0.1838 - 21s/epoch - 290ms/step\n",
      "Epoch 43/100\n",
      "74/74 - 22s - loss: 4.6254 - acc: 0.1936 - val_loss: 5.1801 - val_acc: 0.1818 - 22s/epoch - 301ms/step\n",
      "Epoch 44/100\n",
      "74/74 - 22s - loss: 4.5894 - acc: 0.1971 - val_loss: 5.1654 - val_acc: 0.1862 - 22s/epoch - 300ms/step\n",
      "Epoch 45/100\n",
      "74/74 - 22s - loss: 4.5577 - acc: 0.1999 - val_loss: 5.1662 - val_acc: 0.1834 - 22s/epoch - 298ms/step\n",
      "Epoch 46/100\n",
      "74/74 - 22s - loss: 4.5248 - acc: 0.2025 - val_loss: 5.1569 - val_acc: 0.1846 - 22s/epoch - 300ms/step\n",
      "Epoch 47/100\n",
      "74/74 - 22s - loss: 4.4938 - acc: 0.2066 - val_loss: 5.1442 - val_acc: 0.1872 - 22s/epoch - 300ms/step\n",
      "Epoch 48/100\n",
      "74/74 - 22s - loss: 4.4633 - acc: 0.2076 - val_loss: 5.1409 - val_acc: 0.1867 - 22s/epoch - 296ms/step\n",
      "Epoch 49/100\n",
      "74/74 - 22s - loss: 4.4303 - acc: 0.2106 - val_loss: 5.1390 - val_acc: 0.1895 - 22s/epoch - 303ms/step\n",
      "Epoch 50/100\n",
      "74/74 - 23s - loss: 4.4014 - acc: 0.2119 - val_loss: 5.1302 - val_acc: 0.1901 - 23s/epoch - 306ms/step\n",
      "Epoch 51/100\n",
      "74/74 - 22s - loss: 4.3709 - acc: 0.2158 - val_loss: 5.1295 - val_acc: 0.1905 - 22s/epoch - 299ms/step\n",
      "Epoch 52/100\n",
      "74/74 - 23s - loss: 4.3359 - acc: 0.2180 - val_loss: 5.1234 - val_acc: 0.1892 - 23s/epoch - 304ms/step\n",
      "Epoch 53/100\n",
      "74/74 - 23s - loss: 4.3078 - acc: 0.2208 - val_loss: 5.1140 - val_acc: 0.1927 - 23s/epoch - 315ms/step\n",
      "Epoch 54/100\n",
      "74/74 - 23s - loss: 4.2785 - acc: 0.2222 - val_loss: 5.1091 - val_acc: 0.1947 - 23s/epoch - 310ms/step\n",
      "Epoch 55/100\n",
      "74/74 - 22s - loss: 4.2498 - acc: 0.2250 - val_loss: 5.1149 - val_acc: 0.1914 - 22s/epoch - 294ms/step\n",
      "Epoch 56/100\n",
      "74/74 - 22s - loss: 4.2201 - acc: 0.2284 - val_loss: 5.1137 - val_acc: 0.1911 - 22s/epoch - 304ms/step\n",
      "Epoch 57/100\n",
      "74/74 - 22s - loss: 4.1877 - acc: 0.2289 - val_loss: 5.1026 - val_acc: 0.1939 - 22s/epoch - 300ms/step\n",
      "Epoch 58/100\n",
      "74/74 - 21s - loss: 4.1603 - acc: 0.2323 - val_loss: 5.1077 - val_acc: 0.1934 - 21s/epoch - 288ms/step\n",
      "Epoch 59/100\n",
      "74/74 - 22s - loss: 4.1311 - acc: 0.2349 - val_loss: 5.1037 - val_acc: 0.1946 - 22s/epoch - 292ms/step\n",
      "Epoch 60/100\n",
      "74/74 - 22s - loss: 4.1011 - acc: 0.2362 - val_loss: 5.1013 - val_acc: 0.1938 - 22s/epoch - 296ms/step\n",
      "Epoch 61/100\n",
      "74/74 - 21s - loss: 4.0759 - acc: 0.2394 - val_loss: 5.1052 - val_acc: 0.1928 - 21s/epoch - 287ms/step\n",
      "Epoch 62/100\n",
      "74/74 - 22s - loss: 4.0492 - acc: 0.2413 - val_loss: 5.0950 - val_acc: 0.1976 - 22s/epoch - 300ms/step\n",
      "Epoch 63/100\n",
      "74/74 - 23s - loss: 4.0187 - acc: 0.2436 - val_loss: 5.0981 - val_acc: 0.1946 - 23s/epoch - 307ms/step\n",
      "Epoch 64/100\n",
      "74/74 - 22s - loss: 3.9928 - acc: 0.2465 - val_loss: 5.1032 - val_acc: 0.1925 - 22s/epoch - 297ms/step\n",
      "Epoch 65/100\n",
      "74/74 - 22s - loss: 3.9643 - acc: 0.2493 - val_loss: 5.1027 - val_acc: 0.1962 - 22s/epoch - 294ms/step\n",
      "Epoch 66/100\n",
      "74/74 - 23s - loss: 3.9396 - acc: 0.2509 - val_loss: 5.1011 - val_acc: 0.1971 - 23s/epoch - 306ms/step\n",
      "Epoch 67/100\n",
      "74/74 - 22s - loss: 3.9101 - acc: 0.2540 - val_loss: 5.1056 - val_acc: 0.1974 - 22s/epoch - 300ms/step\n",
      "Epoch 67: early stopping\n"
     ]
    }
   ],
   "source": [
    "model_lstm = createModel(max_len, 4451)\n",
    "model_lstm_hist = trainModel(model_lstm, x_train_sp, y_train_sp,\n",
    "                        x_val_sp, y_val_sp, batch_size=1024)\n"
   ]
  },
  {
   "cell_type": "code",
   "execution_count": 27,
   "id": "4bdbd57f",
   "metadata": {
    "execution": {
     "iopub.execute_input": "2023-05-16T11:43:48.223489Z",
     "iopub.status.busy": "2023-05-16T11:43:48.223125Z",
     "iopub.status.idle": "2023-05-16T11:44:35.881362Z",
     "shell.execute_reply": "2023-05-16T11:44:35.879175Z"
    },
    "papermill": {
     "duration": 47.703413,
     "end_time": "2023-05-16T11:44:35.903070",
     "exception": false,
     "start_time": "2023-05-16T11:43:48.199657",
     "status": "completed"
    },
    "tags": []
   },
   "outputs": [
    {
     "data": {
      "image/png": "[encoded data removed]",
      "text/plain": [
       "<IPython.core.display.Image object>"
      ]
     },
     "execution_count": 27,
     "metadata": {},
     "output_type": "execute_result"
    }
   ],
   "source": [
    "plot_model(model_lstm, to_file='model_plot.png', show_shapes=True, show_layer_names=True)"
   ]
  },
  {
   "cell_type": "code",
   "execution_count": 28,
   "id": "41d23623",
   "metadata": {
    "execution": {
     "iopub.execute_input": "2023-05-16T11:44:35.951146Z",
     "iopub.status.busy": "2023-05-16T11:44:35.950175Z",
     "iopub.status.idle": "2023-05-16T11:44:36.210217Z",
     "shell.execute_reply": "2023-05-16T11:44:36.209206Z"
    },
    "papermill": {
     "duration": 0.286653,
     "end_time": "2023-05-16T11:44:36.212593",
     "exception": false,
     "start_time": "2023-05-16T11:44:35.925940",
     "status": "completed"
    },
    "tags": []
   },
   "outputs": [
    {
     "data": {
      "image/png": "[encoded data removed]",
      "text/plain": [
       "<Figure size 640x480 with 1 Axes>"
      ]
     },
     "metadata": {},
     "output_type": "display_data"
    }
   ],
   "source": [
    "plot_loss(model_lstm_hist)"
   ]
  },
  {
   "cell_type": "code",
   "execution_count": 29,
   "id": "dd29071d",
   "metadata": {
    "execution": {
     "iopub.execute_input": "2023-05-16T11:44:36.261110Z",
     "iopub.status.busy": "2023-05-16T11:44:36.260532Z",
     "iopub.status.idle": "2023-05-16T11:44:36.320504Z",
     "shell.execute_reply": "2023-05-16T11:44:36.319458Z"
    },
    "papermill": {
     "duration": 0.087301,
     "end_time": "2023-05-16T11:44:36.323375",
     "exception": false,
     "start_time": "2023-05-16T11:44:36.236074",
     "status": "completed"
    },
    "tags": []
   },
   "outputs": [],
   "source": [
    "model_lstm.save(\"generic_gram_generation.h5\")"
   ]
  },
  {
   "cell_type": "code",
   "execution_count": 30,
   "id": "729fd084",
   "metadata": {
    "execution": {
     "iopub.execute_input": "2023-05-16T11:44:36.371755Z",
     "iopub.status.busy": "2023-05-16T11:44:36.371447Z",
     "iopub.status.idle": "2023-05-16T11:56:43.523094Z",
     "shell.execute_reply": "2023-05-16T11:56:43.522052Z"
    },
    "papermill": {
     "duration": 727.209877,
     "end_time": "2023-05-16T11:56:43.556844",
     "exception": false,
     "start_time": "2023-05-16T11:44:36.346967",
     "status": "completed"
    },
    "tags": []
   },
   "outputs": [
    {
     "name": "stdout",
     "output_type": "stream",
     "text": [
      "329/329 [==============================] - 8s 19ms/step\n",
      "\n",
      " Generic Ngram Model  Mean Perplexity Score is:  55742.084882726216\n",
      "\n",
      "Accuracy Score: 0.1886846366320602\n",
      "\n",
      "Precision Score: 0.0284149732221687\n",
      "\n",
      "Recall Score: 0.027396459450650626\n",
      "\n",
      "F1 Score: 0.024736579157935836 \n",
      "\n",
      "\n"
     ]
    },
    {
     "name": "stderr",
     "output_type": "stream",
     "text": [
      "/opt/conda/lib/python3.7/site-packages/sklearn/metrics/_classification.py:1318: UndefinedMetricWarning: Precision is ill-defined and being set to 0.0 in labels with no predicted samples. Use `zero_division` parameter to control this behavior.\n",
      "  _warn_prf(average, modifier, msg_start, len(result))\n",
      "/opt/conda/lib/python3.7/site-packages/sklearn/metrics/_classification.py:1318: UndefinedMetricWarning: Recall is ill-defined and being set to 0.0 in labels with no true samples. Use `zero_division` parameter to control this behavior.\n",
      "  _warn_prf(average, modifier, msg_start, len(result))\n"
     ]
    },
    {
     "name": "stdout",
     "output_type": "stream",
     "text": [
      "Rouge Scores done for last  3  words\n",
      "Rouge Scores done for last  4  words\n",
      "Rouge Scores done for last  5  words\n"
     ]
    },
    {
     "data": {
      "image/png": "[encoded data removed]",
      "text/plain": [
       "<Figure size 640x480 with 1 Axes>"
      ]
     },
     "metadata": {},
     "output_type": "display_data"
    }
   ],
   "source": [
    "# model_generic = load_model('/kaggle/input/nlp-project-generation-model/generic_gram_generation.h5')\n",
    "evaluate_model(model_lstm, x_test_seq, x_test_sp,y_test_sp,\"Generic Ngram Model\")"
   ]
  },
  {
   "cell_type": "code",
   "execution_count": 31,
   "id": "0baf69af",
   "metadata": {
    "execution": {
     "iopub.execute_input": "2023-05-16T11:56:43.625474Z",
     "iopub.status.busy": "2023-05-16T11:56:43.623840Z",
     "iopub.status.idle": "2023-05-16T12:22:16.421344Z",
     "shell.execute_reply": "2023-05-16T12:22:16.420257Z"
    },
    "papermill": {
     "duration": 1532.871649,
     "end_time": "2023-05-16T12:22:16.461881",
     "exception": false,
     "start_time": "2023-05-16T11:56:43.590232",
     "status": "completed"
    },
    "tags": []
   },
   "outputs": [
    {
     "name": "stdout",
     "output_type": "stream",
     "text": [
      "Model: \"sequential_1\"\n",
      "_________________________________________________________________\n",
      " Layer (type)                Output Shape              Param #   \n",
      "=================================================================\n",
      " embedding_1 (Embedding)     (None, 86, 100)           445100    \n",
      "                                                                 \n",
      " bidirectional (Bidirectiona  (None, 256)              234496    \n",
      " l)                                                              \n",
      "                                                                 \n",
      " dropout_1 (Dropout)         (None, 256)               0         \n",
      "                                                                 \n",
      " dense_1 (Dense)             (None, 4451)              1143907   \n",
      "                                                                 \n",
      "=================================================================\n",
      "Total params: 1,823,503\n",
      "Trainable params: 1,823,503\n",
      "Non-trainable params: 0\n",
      "_________________________________________________________________\n",
      "\n",
      "\n",
      "Epoch 1/100\n",
      "74/74 - 57s - loss: 7.2206 - acc: 0.0520 - val_loss: 6.3187 - val_acc: 0.0966 - 57s/epoch - 775ms/step\n",
      "Epoch 2/100\n",
      "74/74 - 43s - loss: 6.4542 - acc: 0.0536 - val_loss: 6.2048 - val_acc: 0.0624 - 43s/epoch - 582ms/step\n",
      "Epoch 3/100\n",
      "74/74 - 43s - loss: 6.3695 - acc: 0.0615 - val_loss: 6.1580 - val_acc: 0.0930 - 43s/epoch - 575ms/step\n",
      "Epoch 4/100\n",
      "74/74 - 41s - loss: 6.2954 - acc: 0.0766 - val_loss: 6.0913 - val_acc: 0.1155 - 41s/epoch - 552ms/step\n",
      "Epoch 5/100\n",
      "74/74 - 41s - loss: 6.2049 - acc: 0.0822 - val_loss: 6.0206 - val_acc: 0.1194 - 41s/epoch - 548ms/step\n",
      "Epoch 6/100\n",
      "74/74 - 40s - loss: 6.1136 - acc: 0.0890 - val_loss: 5.9399 - val_acc: 0.1232 - 40s/epoch - 540ms/step\n",
      "Epoch 7/100\n",
      "74/74 - 40s - loss: 6.0156 - acc: 0.0982 - val_loss: 5.8586 - val_acc: 0.1315 - 40s/epoch - 537ms/step\n",
      "Epoch 8/100\n",
      "74/74 - 39s - loss: 5.9040 - acc: 0.1053 - val_loss: 5.7680 - val_acc: 0.1366 - 39s/epoch - 528ms/step\n",
      "Epoch 9/100\n",
      "74/74 - 39s - loss: 5.7885 - acc: 0.1110 - val_loss: 5.6939 - val_acc: 0.1434 - 39s/epoch - 524ms/step\n",
      "Epoch 10/100\n",
      "74/74 - 39s - loss: 5.6722 - acc: 0.1199 - val_loss: 5.6169 - val_acc: 0.1472 - 39s/epoch - 526ms/step\n",
      "Epoch 11/100\n",
      "74/74 - 39s - loss: 5.5556 - acc: 0.1295 - val_loss: 5.5354 - val_acc: 0.1528 - 39s/epoch - 521ms/step\n",
      "Epoch 12/100\n",
      "74/74 - 38s - loss: 5.4501 - acc: 0.1369 - val_loss: 5.4858 - val_acc: 0.1550 - 38s/epoch - 516ms/step\n",
      "Epoch 13/100\n",
      "74/74 - 39s - loss: 5.3601 - acc: 0.1433 - val_loss: 5.4458 - val_acc: 0.1592 - 39s/epoch - 523ms/step\n",
      "Epoch 14/100\n",
      "74/74 - 39s - loss: 5.2792 - acc: 0.1489 - val_loss: 5.4045 - val_acc: 0.1605 - 39s/epoch - 523ms/step\n",
      "Epoch 15/100\n",
      "74/74 - 39s - loss: 5.2025 - acc: 0.1530 - val_loss: 5.3767 - val_acc: 0.1592 - 39s/epoch - 524ms/step\n",
      "Epoch 16/100\n",
      "74/74 - 39s - loss: 5.1321 - acc: 0.1563 - val_loss: 5.3430 - val_acc: 0.1634 - 39s/epoch - 527ms/step\n",
      "Epoch 17/100\n",
      "74/74 - 39s - loss: 5.0665 - acc: 0.1612 - val_loss: 5.3210 - val_acc: 0.1656 - 39s/epoch - 522ms/step\n",
      "Epoch 18/100\n",
      "74/74 - 38s - loss: 4.9979 - acc: 0.1633 - val_loss: 5.3096 - val_acc: 0.1625 - 38s/epoch - 519ms/step\n",
      "Epoch 19/100\n",
      "74/74 - 38s - loss: 4.9348 - acc: 0.1663 - val_loss: 5.2897 - val_acc: 0.1659 - 38s/epoch - 511ms/step\n",
      "Epoch 20/100\n",
      "74/74 - 38s - loss: 4.8732 - acc: 0.1698 - val_loss: 5.2706 - val_acc: 0.1649 - 38s/epoch - 510ms/step\n",
      "Epoch 21/100\n",
      "74/74 - 39s - loss: 4.8130 - acc: 0.1738 - val_loss: 5.2499 - val_acc: 0.1672 - 39s/epoch - 531ms/step\n",
      "Epoch 22/100\n",
      "74/74 - 39s - loss: 4.7552 - acc: 0.1763 - val_loss: 5.2381 - val_acc: 0.1662 - 39s/epoch - 533ms/step\n",
      "Epoch 23/100\n",
      "74/74 - 40s - loss: 4.6949 - acc: 0.1800 - val_loss: 5.2256 - val_acc: 0.1664 - 40s/epoch - 539ms/step\n",
      "Epoch 24/100\n",
      "74/74 - 41s - loss: 4.6352 - acc: 0.1838 - val_loss: 5.2128 - val_acc: 0.1695 - 41s/epoch - 548ms/step\n",
      "Epoch 25/100\n",
      "74/74 - 40s - loss: 4.5809 - acc: 0.1877 - val_loss: 5.1921 - val_acc: 0.1710 - 40s/epoch - 545ms/step\n",
      "Epoch 26/100\n",
      "74/74 - 41s - loss: 4.5268 - acc: 0.1906 - val_loss: 5.1940 - val_acc: 0.1728 - 41s/epoch - 556ms/step\n",
      "Epoch 27/100\n",
      "74/74 - 41s - loss: 4.4706 - acc: 0.1950 - val_loss: 5.1798 - val_acc: 0.1720 - 41s/epoch - 559ms/step\n",
      "Epoch 28/100\n",
      "74/74 - 42s - loss: 4.4159 - acc: 0.1976 - val_loss: 5.1700 - val_acc: 0.1740 - 42s/epoch - 562ms/step\n",
      "Epoch 29/100\n",
      "74/74 - 40s - loss: 4.3647 - acc: 0.2019 - val_loss: 5.1596 - val_acc: 0.1762 - 40s/epoch - 534ms/step\n",
      "Epoch 30/100\n",
      "74/74 - 40s - loss: 4.3141 - acc: 0.2051 - val_loss: 5.1585 - val_acc: 0.1757 - 40s/epoch - 535ms/step\n",
      "Epoch 31/100\n",
      "74/74 - 40s - loss: 4.2660 - acc: 0.2078 - val_loss: 5.1537 - val_acc: 0.1773 - 40s/epoch - 538ms/step\n",
      "Epoch 32/100\n",
      "74/74 - 40s - loss: 4.2157 - acc: 0.2129 - val_loss: 5.1477 - val_acc: 0.1794 - 40s/epoch - 539ms/step\n",
      "Epoch 33/100\n",
      "74/74 - 40s - loss: 4.1724 - acc: 0.2159 - val_loss: 5.1468 - val_acc: 0.1804 - 40s/epoch - 542ms/step\n",
      "Epoch 34/100\n",
      "74/74 - 40s - loss: 4.1213 - acc: 0.2206 - val_loss: 5.1564 - val_acc: 0.1779 - 40s/epoch - 547ms/step\n",
      "Epoch 35/100\n",
      "74/74 - 40s - loss: 4.0721 - acc: 0.2237 - val_loss: 5.1513 - val_acc: 0.1789 - 40s/epoch - 540ms/step\n",
      "Epoch 36/100\n",
      "74/74 - 40s - loss: 4.0316 - acc: 0.2294 - val_loss: 5.1474 - val_acc: 0.1831 - 40s/epoch - 544ms/step\n",
      "Epoch 37/100\n",
      "74/74 - 40s - loss: 3.9880 - acc: 0.2321 - val_loss: 5.1511 - val_acc: 0.1831 - 40s/epoch - 535ms/step\n",
      "Epoch 38/100\n",
      "74/74 - 40s - loss: 3.9469 - acc: 0.2379 - val_loss: 5.1614 - val_acc: 0.1804 - 40s/epoch - 542ms/step\n",
      "Epoch 38: early stopping\n"
     ]
    }
   ],
   "source": [
    "model_bilstm = createModel(max_len, 4451,bidirectional=True)\n",
    "model_bilstm_hist = trainModel(model_bilstm, x_train_sp, y_train_sp,\n",
    "                        x_val_sp, y_val_sp, batch_size=1024)\n"
   ]
  },
  {
   "cell_type": "code",
   "execution_count": 32,
   "id": "7f041508",
   "metadata": {
    "execution": {
     "iopub.execute_input": "2023-05-16T12:22:16.543461Z",
     "iopub.status.busy": "2023-05-16T12:22:16.543055Z",
     "iopub.status.idle": "2023-05-16T12:22:17.006835Z",
     "shell.execute_reply": "2023-05-16T12:22:17.005648Z"
    },
    "papermill": {
     "duration": 0.508137,
     "end_time": "2023-05-16T12:22:17.009688",
     "exception": false,
     "start_time": "2023-05-16T12:22:16.501551",
     "status": "completed"
    },
    "tags": []
   },
   "outputs": [
    {
     "data": {
      "image/png": "[encoded data removed]",
      "text/plain": [
       "<IPython.core.display.Image object>"
      ]
     },
     "execution_count": 32,
     "metadata": {},
     "output_type": "execute_result"
    }
   ],
   "source": [
    "plot_model(model_bilstm, to_file='model_plot.png', show_shapes=True, show_layer_names=True)"
   ]
  },
  {
   "cell_type": "code",
   "execution_count": 33,
   "id": "6bda7dee",
   "metadata": {
    "execution": {
     "iopub.execute_input": "2023-05-16T12:22:17.097478Z",
     "iopub.status.busy": "2023-05-16T12:22:17.096373Z",
     "iopub.status.idle": "2023-05-16T12:22:17.347000Z",
     "shell.execute_reply": "2023-05-16T12:22:17.346003Z"
    },
    "papermill": {
     "duration": 0.296643,
     "end_time": "2023-05-16T12:22:17.349447",
     "exception": false,
     "start_time": "2023-05-16T12:22:17.052804",
     "status": "completed"
    },
    "tags": []
   },
   "outputs": [
    {
     "data": {
      "image/png": "[encoded data removed]",
      "text/plain": [
       "<Figure size 640x480 with 1 Axes>"
      ]
     },
     "metadata": {},
     "output_type": "display_data"
    }
   ],
   "source": [
    "plot_loss(model_bilstm_hist)"
   ]
  },
  {
   "cell_type": "code",
   "execution_count": 34,
   "id": "33d204b0",
   "metadata": {
    "execution": {
     "iopub.execute_input": "2023-05-16T12:22:17.434738Z",
     "iopub.status.busy": "2023-05-16T12:22:17.432934Z",
     "iopub.status.idle": "2023-05-16T12:22:17.508340Z",
     "shell.execute_reply": "2023-05-16T12:22:17.507166Z"
    },
    "papermill": {
     "duration": 0.120542,
     "end_time": "2023-05-16T12:22:17.511259",
     "exception": false,
     "start_time": "2023-05-16T12:22:17.390717",
     "status": "completed"
    },
    "tags": []
   },
   "outputs": [],
   "source": [
    "model_bilstm.save(\"generic_gram_biLSTM_generation.h5\")"
   ]
  },
  {
   "cell_type": "code",
   "execution_count": 35,
   "id": "e47208de",
   "metadata": {
    "execution": {
     "iopub.execute_input": "2023-05-16T12:22:17.596762Z",
     "iopub.status.busy": "2023-05-16T12:22:17.595677Z",
     "iopub.status.idle": "2023-05-16T12:39:17.812001Z",
     "shell.execute_reply": "2023-05-16T12:39:17.810784Z"
    },
    "papermill": {
     "duration": 1020.324368,
     "end_time": "2023-05-16T12:39:17.877733",
     "exception": false,
     "start_time": "2023-05-16T12:22:17.553365",
     "status": "completed"
    },
    "tags": []
   },
   "outputs": [
    {
     "name": "stdout",
     "output_type": "stream",
     "text": [
      "329/329 [==============================] - 21s 56ms/step\n",
      "\n",
      " Generic Ngram Model Bi-LSTM  Mean Perplexity Score is:  26767.70570068856\n",
      "\n",
      "Accuracy Score: 0.17287360701019144\n",
      "\n",
      "Precision Score: 0.020960321342494863\n",
      "\n",
      "Recall Score: 0.020913265321401666\n",
      "\n",
      "F1 Score: 0.01764628871882291 \n",
      "\n",
      "\n"
     ]
    },
    {
     "name": "stderr",
     "output_type": "stream",
     "text": [
      "/opt/conda/lib/python3.7/site-packages/sklearn/metrics/_classification.py:1318: UndefinedMetricWarning: Precision is ill-defined and being set to 0.0 in labels with no predicted samples. Use `zero_division` parameter to control this behavior.\n",
      "  _warn_prf(average, modifier, msg_start, len(result))\n",
      "/opt/conda/lib/python3.7/site-packages/sklearn/metrics/_classification.py:1318: UndefinedMetricWarning: Recall is ill-defined and being set to 0.0 in labels with no true samples. Use `zero_division` parameter to control this behavior.\n",
      "  _warn_prf(average, modifier, msg_start, len(result))\n"
     ]
    },
    {
     "name": "stdout",
     "output_type": "stream",
     "text": [
      "Rouge Scores done for last  3  words\n",
      "Rouge Scores done for last  4  words\n",
      "Rouge Scores done for last  5  words\n"
     ]
    },
    {
     "data": {
      "image/png": "[encoded data removed]",
      "text/plain": [
       "<Figure size 640x480 with 1 Axes>"
      ]
     },
     "metadata": {},
     "output_type": "display_data"
    }
   ],
   "source": [
    "# model_generic_bi = load_model('/kaggle/input/nlp-project-generation-model/generic_gram_biLSTM_generation.h5')\n",
    "evaluate_model(model_bilstm, x_test_seq, x_test_sp,y_test_sp,\"Generic Ngram Model Bi-LSTM\")"
   ]
  },
  {
   "cell_type": "code",
   "execution_count": 36,
   "id": "0ca0c0b8",
   "metadata": {
    "execution": {
     "iopub.execute_input": "2023-05-16T12:39:18.008424Z",
     "iopub.status.busy": "2023-05-16T12:39:18.008063Z",
     "iopub.status.idle": "2023-05-16T12:39:18.370079Z",
     "shell.execute_reply": "2023-05-16T12:39:18.368881Z"
    },
    "papermill": {
     "duration": 0.430394,
     "end_time": "2023-05-16T12:39:18.372852",
     "exception": false,
     "start_time": "2023-05-16T12:39:17.942458",
     "status": "completed"
    },
    "tags": []
   },
   "outputs": [],
   "source": [
    "input_Sentence = 'hello yar mein is movie ko nahi dekha hoon tho tho mein thode der ke'\n",
    "full_sentence = 'hello yar mein is movie ko nahi dekha hoon tho tho mein thode der ke liye isko dekh loonga'\n",
    "output_sentence = generate_text(input_Sentence,4,max_len,train_tokenizer,model_bilstm)"
   ]
  },
  {
   "cell_type": "code",
   "execution_count": 37,
   "id": "65cfe48f",
   "metadata": {
    "execution": {
     "iopub.execute_input": "2023-05-16T12:39:18.505881Z",
     "iopub.status.busy": "2023-05-16T12:39:18.505535Z",
     "iopub.status.idle": "2023-05-16T12:39:18.512162Z",
     "shell.execute_reply": "2023-05-16T12:39:18.511018Z"
    },
    "papermill": {
     "duration": 0.076435,
     "end_time": "2023-05-16T12:39:18.514900",
     "exception": false,
     "start_time": "2023-05-16T12:39:18.438465",
     "status": "completed"
    },
    "tags": []
   },
   "outputs": [
    {
     "name": "stdout",
     "output_type": "stream",
     "text": [
      "\n",
      "Input Sentence: \n",
      " hello yar mein is movie ko nahi dekha hoon tho tho mein thode der ke\n",
      "\n",
      "\n",
      "Full Sentence: \n",
      " hello yar mein is movie ko nahi dekha hoon tho tho mein thode der ke liye isko dekh loonga\n",
      "\n",
      "\n",
      "Generated Sentence: \n",
      " hello yar mein is movie ko nahi dekha hoon tho tho mein thode der ke liye tho is movie \n"
     ]
    }
   ],
   "source": [
    "print(\"\\nInput Sentence: \\n\", input_Sentence)\n",
    "print(\"\\n\\nFull Sentence: \\n\", full_sentence)\n",
    "print(\"\\n\\nGenerated Sentence: \\n\",input_Sentence + \" \" + output_sentence)"
   ]
  }
 ],
 "metadata": {
  "kernelspec": {
   "display_name": "Python 3",
   "language": "python",
   "name": "python3"
  },
  "language_info": {
   "codemirror_mode": {
    "name": "ipython",
    "version": 3
   },
   "file_extension": ".py",
   "mimetype": "text/x-python",
   "name": "python",
   "nbconvert_exporter": "python",
   "pygments_lexer": "ipython3",
   "version": "3.7.12"
  },
  "papermill": {
   "default_parameters": {},
   "duration": 4914.549274,
   "end_time": "2023-05-16T12:39:22.582008",
   "environment_variables": {},
   "exception": null,
   "input_path": "__notebook__.ipynb",
   "output_path": "__notebook__.ipynb",
   "parameters": {},
   "start_time": "2023-05-16T11:17:28.032734",
   "version": "2.4.0"
  }
 },
 "nbformat": 4,
 "nbformat_minor": 5
}
