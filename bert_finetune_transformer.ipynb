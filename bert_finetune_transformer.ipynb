{
  "metadata": {
    "kernelspec": {
      "language": "python",
      "display_name": "Python 3",
      "name": "python3"
    },
    "language_info": {
      "name": "python",
      "version": "3.10.10",
      "mimetype": "text/x-python",
      "codemirror_mode": {
        "name": "ipython",
        "version": 3
      },
      "pygments_lexer": "ipython3",
      "nbconvert_exporter": "python",
      "file_extension": ".py"
    },
    "colab": {
      "provenance": [],
      "gpuType": "T4"
    },
    "accelerator": "GPU",
    "gpuClass": "standard"
  },
  "nbformat_minor": 0,
  "nbformat": 4,
  "cells": [
    {
      "cell_type": "code",
      "source": [
        "!pip install transformers==2.1.0\n",
        "!pip install rouge"
      ],
      "metadata": {
        "trusted": true,
        "colab": {
          "base_uri": "https://localhost:8080/"
        },
        "id": "rdkjdrhegrSZ",
        "outputId": "3b3f3b37-1803-47c4-9137-da738c598fbd"
      },
      "execution_count": 44,
      "outputs": [
        {
          "output_type": "stream",
          "name": "stdout",
          "text": [
            "Looking in indexes: https://pypi.org/simple, https://us-python.pkg.dev/colab-wheels/public/simple/\n",
            "Requirement already satisfied: transformers==2.1.0 in /usr/local/lib/python3.10/dist-packages (2.1.0)\n",
            "Requirement already satisfied: numpy in /usr/local/lib/python3.10/dist-packages (from transformers==2.1.0) (1.22.4)\n",
            "Requirement already satisfied: boto3 in /usr/local/lib/python3.10/dist-packages (from transformers==2.1.0) (1.26.136)\n",
            "Requirement already satisfied: requests in /usr/local/lib/python3.10/dist-packages (from transformers==2.1.0) (2.27.1)\n",
            "Requirement already satisfied: tqdm in /usr/local/lib/python3.10/dist-packages (from transformers==2.1.0) (4.65.0)\n",
            "Requirement already satisfied: regex in /usr/local/lib/python3.10/dist-packages (from transformers==2.1.0) (2022.10.31)\n",
            "Requirement already satisfied: sentencepiece in /usr/local/lib/python3.10/dist-packages (from transformers==2.1.0) (0.1.99)\n",
            "Requirement already satisfied: sacremoses in /usr/local/lib/python3.10/dist-packages (from transformers==2.1.0) (0.0.53)\n",
            "Requirement already satisfied: botocore<1.30.0,>=1.29.136 in /usr/local/lib/python3.10/dist-packages (from boto3->transformers==2.1.0) (1.29.136)\n",
            "Requirement already satisfied: jmespath<2.0.0,>=0.7.1 in /usr/local/lib/python3.10/dist-packages (from boto3->transformers==2.1.0) (1.0.1)\n",
            "Requirement already satisfied: s3transfer<0.7.0,>=0.6.0 in /usr/local/lib/python3.10/dist-packages (from boto3->transformers==2.1.0) (0.6.1)\n",
            "Requirement already satisfied: urllib3<1.27,>=1.21.1 in /usr/local/lib/python3.10/dist-packages (from requests->transformers==2.1.0) (1.26.15)\n",
            "Requirement already satisfied: certifi>=2017.4.17 in /usr/local/lib/python3.10/dist-packages (from requests->transformers==2.1.0) (2022.12.7)\n",
            "Requirement already satisfied: charset-normalizer~=2.0.0 in /usr/local/lib/python3.10/dist-packages (from requests->transformers==2.1.0) (2.0.12)\n",
            "Requirement already satisfied: idna<4,>=2.5 in /usr/local/lib/python3.10/dist-packages (from requests->transformers==2.1.0) (3.4)\n",
            "Requirement already satisfied: six in /usr/local/lib/python3.10/dist-packages (from sacremoses->transformers==2.1.0) (1.16.0)\n",
            "Requirement already satisfied: click in /usr/local/lib/python3.10/dist-packages (from sacremoses->transformers==2.1.0) (8.1.3)\n",
            "Requirement already satisfied: joblib in /usr/local/lib/python3.10/dist-packages (from sacremoses->transformers==2.1.0) (1.2.0)\n",
            "Requirement already satisfied: python-dateutil<3.0.0,>=2.1 in /usr/local/lib/python3.10/dist-packages (from botocore<1.30.0,>=1.29.136->boto3->transformers==2.1.0) (2.8.2)\n",
            "Looking in indexes: https://pypi.org/simple, https://us-python.pkg.dev/colab-wheels/public/simple/\n",
            "Requirement already satisfied: rouge in /usr/local/lib/python3.10/dist-packages (1.0.1)\n",
            "Requirement already satisfied: six in /usr/local/lib/python3.10/dist-packages (from rouge) (1.16.0)\n"
          ]
        }
      ]
    },
    {
      "cell_type": "code",
      "source": [
        "from transformers import BertTokenizer, TFBertForMaskedLM, AutoTokenizer\n",
        "import tensorflow as tf\n",
        "import os\n",
        "import numpy as np\n",
        "import re\n",
        "import matplotlib.pyplot as plt\n",
        "import pandas as pd\n",
        "import os\n",
        "from rouge import Rouge"
      ],
      "metadata": {
        "_uuid": "8f2839f25d086af736a60e9eeb907d3b93b6e0e5",
        "_cell_guid": "b1076dfc-b9ad-4769-8c92-a6c4dae69d19",
        "execution": {
          "iopub.status.busy": "2023-05-07T13:57:06.318680Z",
          "iopub.execute_input": "2023-05-07T13:57:06.319187Z",
          "iopub.status.idle": "2023-05-07T13:57:06.324598Z",
          "shell.execute_reply.started": "2023-05-07T13:57:06.319139Z",
          "shell.execute_reply": "2023-05-07T13:57:06.323573Z"
        },
        "trusted": true,
        "id": "lt3aMZ6EgrSc"
      },
      "execution_count": 45,
      "outputs": []
    },
    {
      "cell_type": "code",
      "source": [
        "def readFile(path):\n",
        "    with open(path, 'r', encoding=\"utf-8\") as f:\n",
        "        text = f.read()\n",
        "    return text\n",
        "\n",
        "def removePunct(text):\n",
        "    text = text.lower()\n",
        "    text = re.sub(r\"[^\\w\\s]\", \"\", text)\n",
        "    text = re.sub(r\" +\", \" \", text)\n",
        "    return text\n",
        "\n",
        "\n",
        "def preProcess(data):\n",
        "    temp = []\n",
        "    for d in data:\n",
        "        text = removePunct(d)\n",
        "        temp.append(text)\n",
        "    return temp\n",
        "\n",
        "def getData(text):\n",
        "    x = []\n",
        "    y = []\n",
        "    data = text.split(\"\\n\")\n",
        "    for d in data:\n",
        "        try:\n",
        "            x_, y_ = d.split(\"\\t\")\n",
        "            x.append(x_)\n",
        "            y.append(y_)\n",
        "        except:\n",
        "            pass\n",
        "    x = preProcess(x)\n",
        "    y = preProcess(y)\n",
        "    return [x, y]\n",
        "\n",
        "def removeLongSentence(data_all, n):\n",
        "    x_fin = []\n",
        "    for idx,ele in enumerate(data_all):\n",
        "        ele_split = ele.split()\n",
        "        if len(ele_split) < n and len(ele_split) > 1:\n",
        "            x_fin.append(ele)            \n",
        "    return x_fin"
      ],
      "metadata": {
        "execution": {
          "iopub.status.busy": "2023-05-07T13:57:06.340275Z",
          "iopub.execute_input": "2023-05-07T13:57:06.340773Z",
          "iopub.status.idle": "2023-05-07T13:57:06.352294Z",
          "shell.execute_reply.started": "2023-05-07T13:57:06.340727Z",
          "shell.execute_reply": "2023-05-07T13:57:06.351247Z"
        },
        "trusted": true,
        "id": "6LP5faf4grSe"
      },
      "execution_count": 46,
      "outputs": []
    },
    {
      "cell_type": "code",
      "source": [
        "def mask_input(input_ids, max_len):\n",
        "    inp_ids = []\n",
        "    lbs = []\n",
        "    idx = 0\n",
        "    for inp in input_ids:\n",
        "        inp = np.array(inp)\n",
        "        actual_tokens = list(set(range(max_len)) - \n",
        "                            set(np.where((inp == 101) | (inp == 102) \n",
        "                                | (inp == 0))[0].tolist()))\n",
        "        #We need to select 15% random tokens from the given list\n",
        "        num_of_token_to_mask = int(len(actual_tokens)*0.15)\n",
        "        token_to_mask = np.random.choice(np.array(actual_tokens), \n",
        "                                        size=num_of_token_to_mask, \n",
        "                                        replace=False).tolist()\n",
        "        #Now we have the indices where we need to mask the tokens\n",
        "        inp[token_to_mask] = 103\n",
        "        inp_ids.append(inp)\n",
        "        idx += 1\n",
        "    inp_ids = tf.convert_to_tensor(inp_ids)\n",
        "    return inp_ids"
      ],
      "metadata": {
        "id": "8mE1_k9MC0ZS"
      },
      "execution_count": 47,
      "outputs": []
    },
    {
      "cell_type": "code",
      "source": [
        "def prepare_input(tokenized_data):\n",
        "    input_ids = [data['input_ids'] for data in tokenized_data]\n",
        "    input_attention_mask = [data['special_tokens_mask'] for data in tokenized_data]\n",
        "    input_attention_mask=[np.logical_not(ele).astype(int) for ele in input_attention_mask]\n",
        "    # max_len = max([len(sentence) for sentence in input_ids])\n",
        "    max_len = 250\n",
        "    input_ids = tf.keras.preprocessing.sequence.pad_sequences(input_ids, maxlen=250, padding='post', truncating='post')\n",
        "    input_attention_mask = tf.keras.preprocessing.sequence.pad_sequences(input_attention_mask, maxlen=250, padding='post', truncating='post')\n",
        "    input_labels = input_ids.copy()\n",
        "    input_labels = tf.convert_to_tensor(input_labels)\n",
        "    input_attention_mask = tf.convert_to_tensor(input_attention_mask)\n",
        "    input_ids = mask_input(input_ids,max_len)\n",
        "    return input_ids,input_attention_mask,input_labels"
      ],
      "metadata": {
        "id": "hMTc4_WJCTNs"
      },
      "execution_count": 48,
      "outputs": []
    },
    {
      "cell_type": "code",
      "source": [
        "def plot_details(history):\n",
        "    losses = history.history['loss']\n",
        "    fig = plt.figure(figsize=(5,5))\n",
        "    ax1 = fig.add_subplot(111)\n",
        "    ax1.plot(range(len(losses)),losses)\n",
        "    ax1.set_xlabel(\"Epochs\")\n",
        "    ax1.set_ylabel(\"Loss\")\n",
        "    ax1.set_title(\"Epoch vs Loss\")\n",
        "    plt.grid()\n",
        "    plt.show()"
      ],
      "metadata": {
        "id": "DI4PCGwkDchx"
      },
      "execution_count": 49,
      "outputs": []
    },
    {
      "cell_type": "code",
      "source": [
        "def train_model(input_ids,input_attention_mask,input_labels):\n",
        "    model = TFBertForMaskedLM.from_pretrained('bert-base-uncased')\n",
        "    model.compile(optimizer=tf.keras.optimizers.Adam(learning_rate=0.0001),loss=tf.keras.losses.SparseCategoricalCrossentropy(from_logits=True))\n",
        "    history = model.fit([input_ids,input_attention_mask],input_labels,verbose=1,batch_size=8,epochs=10)\n",
        "    plot_details(history)\n",
        "    return model"
      ],
      "metadata": {
        "id": "dNLdon6zDSau"
      },
      "execution_count": 50,
      "outputs": []
    },
    {
      "cell_type": "code",
      "source": [
        "def save_model(model,tokenizer,model_path):\n",
        "  # Save the fine-tuned model\n",
        "    model.save_pretrained(model_path)\n",
        "    tokenizer.save_pretrained(model_path)"
      ],
      "metadata": {
        "id": "-1dFG0VpDnZ7"
      },
      "execution_count": 51,
      "outputs": []
    },
    {
      "cell_type": "code",
      "source": [
        "def train_transformer(dataset_path):\n",
        "    train_data = readFile(dataset_path)\n",
        "    _, x_train_ori = getData(train_data)\n",
        "    x_train_rm = removeLongSentence(x_train_ori,200)\n",
        "    # x_train_rm = x_train_rm[0:100]\n",
        "    tokenizer = BertTokenizer.from_pretrained('bert-base-uncased')\n",
        "    tokenized_data = [tokenizer.encode_plus(text, add_special_tokens=True, max_length=512) for text in x_train_rm]\n",
        "    input_ids,input_attention_mask,input_labels = prepare_input(tokenized_data)\n",
        "    model = train_model(input_ids,input_attention_mask,input_labels)\n",
        "    model_path = '/content/drive/MyDrive/NLP/Hinglish_BERT'\n",
        "    save_model(model,tokenizer,model_path)\n",
        "    return model,tokenizer"
      ],
      "metadata": {
        "id": "gvH3H9byB_U1"
      },
      "execution_count": 52,
      "outputs": []
    },
    {
      "cell_type": "code",
      "source": [
        "def evaluate_sentence(query,model,tokenizer):\n",
        "    # query = \"hello yar mein is movie ko nahi dekha hoon tho tho mein thode der ke [MASK] [MASK] [MASK]\"\n",
        "    tokenized_data = [tokenizer.encode_plus(query, add_special_tokens=True, max_length=512)]\n",
        "    input_ids,input_attention_mask,input_labels = prepare_input(tokenized_data)\n",
        "    mask_loc = np.where(input_ids.numpy()[0] == 103)[0].tolist()\n",
        "    out = model([input_ids,input_attention_mask])[0].numpy()\n",
        "    out = out[0]\n",
        "    predicted_tokens = np.argmax(out[mask_loc],axis=1).tolist()\n",
        "    return tokenizer.decode(predicted_tokens)"
      ],
      "metadata": {
        "id": "P9BNbhNMFOjC"
      },
      "execution_count": 53,
      "outputs": []
    },
    {
      "cell_type": "code",
      "source": [
        "def list_to_string(x_list_elements):\n",
        "    fin_str = \"\"\n",
        "    for ele in x_list_elements:\n",
        "        fin_str += ele + \" \"\n",
        "    return fin_str\n",
        "\n",
        "def get_rouge_score(model,last_n_words,x_sentences,tokenizer):\n",
        "    rouge_scores = []\n",
        "    rouge = Rouge()\n",
        "    for idx,ele in enumerate(x_sentences):\n",
        "        ele_fin = ele.split()[:-last_n_words]\n",
        "        ele_fin += ['MASK'] * last_n_words\n",
        "        ele_short_sent_mask = list_to_string(ele_fin)\n",
        "        ele_true_token = ele.split()[-last_n_words:]\n",
        "        ele_true_sent = list_to_string(ele_true_token)\n",
        "        pred_sent = evaluate_sentence(ele_short_sent_mask,model,tokenizer)\n",
        "        if len(pred_sent.split())>0:\n",
        "            scores = rouge.get_scores(pred_sent, ele_true_sent, avg=True)\n",
        "            # print(\"PRED: \",pred_sent,\"  TRUE: \",ele_true_sent,scores['rouge-l'])\n",
        "            rouge_scores.append(scores['rouge-l']['f'])\n",
        "    return rouge_scores\n",
        "\n",
        "def get_all_rouge_scores(model,x_sentences,tokenizer):\n",
        "    last_n_words = [3,4,5]\n",
        "    all_rouge_scores = []\n",
        "    for ele in last_n_words:\n",
        "        r_scores = get_rouge_score(model,ele,x_sentences,tokenizer)\n",
        "        all_rouge_scores.append(np.mean(r_scores))\n",
        "        print(\"Rouge Scores done for last \", ele , \" words\")\n",
        "    return all_rouge_scores, last_n_words\n",
        "\n",
        "def plot_rouge_scores(all_rouge_scores_mean,last_n_words):\n",
        "    plt.xlabel(\"Predicted Words\")\n",
        "    plt.ylabel(\"Rouge Scores\")\n",
        "    plt.title(\"Predicted Words vs Rouge Scores\")\n",
        "    # plot lines\n",
        "    last_n_words = [format(x, 'd') for x in last_n_words]\n",
        "    plt.bar(last_n_words, all_rouge_scores_mean,color ='b',width = 0.4)\n",
        "    plt.show()"
      ],
      "metadata": {
        "id": "htlMqr_0N3S3"
      },
      "execution_count": 54,
      "outputs": []
    },
    {
      "cell_type": "code",
      "source": [
        "def test_transformer(dataset_path, model, tokenizer):\n",
        "    test_data = readFile(dataset_path)\n",
        "    _, x_test_ori = getData(test_data)\n",
        "    x_test_rm = removeLongSentence(x_test_ori,200)\n",
        "    all_rouge_scores, last_n_words = get_all_rouge_scores(model,x_test_rm,tokenizer)\n",
        "    plot_rouge_scores(all_rouge_scores, last_n_words)\n"
      ],
      "metadata": {
        "id": "6jCKitp3QRfl"
      },
      "execution_count": 55,
      "outputs": []
    },
    {
      "cell_type": "code",
      "source": [
        "model,tokenizer = train_transformer('/content/train.txt')"
      ],
      "metadata": {
        "colab": {
          "base_uri": "https://localhost:8080/",
          "height": 924
        },
        "id": "bSvKHN9yEFDW",
        "outputId": "533409a6-2a4f-4e36-ee20-eb3a61a0e7dd"
      },
      "execution_count": 56,
      "outputs": [
        {
          "output_type": "stream",
          "name": "stdout",
          "text": [
            "Epoch 1/10\n"
          ]
        },
        {
          "output_type": "stream",
          "name": "stderr",
          "text": [
            "WARNING:tensorflow:Gradients do not exist for variables ['tf_bert_for_masked_lm_2/bert/pooler/dense/kernel:0', 'tf_bert_for_masked_lm_2/bert/pooler/dense/bias:0'] when minimizing the loss. If you're using `model.compile()`, did you forget to provide a `loss` argument?\n",
            "WARNING:tensorflow:Gradients do not exist for variables ['tf_bert_for_masked_lm_2/bert/pooler/dense/kernel:0', 'tf_bert_for_masked_lm_2/bert/pooler/dense/bias:0'] when minimizing the loss. If you're using `model.compile()`, did you forget to provide a `loss` argument?\n",
            "WARNING:tensorflow:Gradients do not exist for variables ['tf_bert_for_masked_lm_2/bert/pooler/dense/kernel:0', 'tf_bert_for_masked_lm_2/bert/pooler/dense/bias:0'] when minimizing the loss. If you're using `model.compile()`, did you forget to provide a `loss` argument?\n",
            "WARNING:tensorflow:Gradients do not exist for variables ['tf_bert_for_masked_lm_2/bert/pooler/dense/kernel:0', 'tf_bert_for_masked_lm_2/bert/pooler/dense/bias:0'] when minimizing the loss. If you're using `model.compile()`, did you forget to provide a `loss` argument?\n"
          ]
        },
        {
          "output_type": "stream",
          "name": "stdout",
          "text": [
            "936/936 [==============================] - 529s 514ms/step - loss: 0.1843\n",
            "Epoch 2/10\n",
            "936/936 [==============================] - 479s 512ms/step - loss: 0.0356\n",
            "Epoch 3/10\n",
            "936/936 [==============================] - 479s 512ms/step - loss: 0.2380\n",
            "Epoch 4/10\n",
            "936/936 [==============================] - 477s 510ms/step - loss: 0.8036\n",
            "Epoch 5/10\n",
            "936/936 [==============================] - 477s 510ms/step - loss: 0.7994\n",
            "Epoch 6/10\n",
            "936/936 [==============================] - 478s 510ms/step - loss: 0.7967\n",
            "Epoch 7/10\n",
            "936/936 [==============================] - 479s 511ms/step - loss: 0.7975\n",
            "Epoch 8/10\n",
            "936/936 [==============================] - 478s 511ms/step - loss: 0.8256\n",
            "Epoch 9/10\n",
            "936/936 [==============================] - 477s 510ms/step - loss: 0.8211\n",
            "Epoch 10/10\n",
            "936/936 [==============================] - 478s 511ms/step - loss: 0.8157\n"
          ]
        },
        {
          "output_type": "display_data",
          "data": {
            "text/plain": [
              "<Figure size 500x500 with 1 Axes>"
            ],
            "image/png": "[encoded data removed]"
          },
          "metadata": {}
        }
      ]
    },
    {
      "cell_type": "code",
      "source": [
        "test_transformer('/content/dev.txt',model,tokenizer)"
      ],
      "metadata": {
        "id": "om3OY6dau4T_"
      },
      "execution_count": null,
      "outputs": []
    },
    {
      "cell_type": "code",
      "source": [
        "test_data = readFile('/content/dev.txt')\n",
        "_, x_test_ori = getData(test_data)\n",
        "x_test_rm = removeLongSentence(x_test_ori,200)"
      ],
      "metadata": {
        "id": "_X7YTyQMRkt6"
      },
      "execution_count": 23,
      "outputs": []
    },
    {
      "cell_type": "code",
      "source": [
        "def load_model(model_path):\n",
        "    model = TFBertForMaskedLM.from_pretrained(model_path,from_pt=True)\n",
        "    tokenizer = BertTokenizer.from_pretrained(model_path,from_pt=True)\n",
        "    return model"
      ],
      "metadata": {
        "id": "c1EuFQhbHqi2"
      },
      "execution_count": null,
      "outputs": []
    },
    {
      "cell_type": "code",
      "source": [
        "query = \"hello yar mein is [MASK] ko nahi  [MASK] hoon tho tho mein thode der ke liye\"\n",
        "predicted_ans = evaluate_sentence(query,model,tokenizer)"
      ],
      "metadata": {
        "id": "AGMCyU0iGOtu"
      },
      "execution_count": null,
      "outputs": []
    },
    {
      "cell_type": "code",
      "source": [
        "predicted_ans"
      ],
      "metadata": {
        "id": "xRFYSLvyXhnI",
        "outputId": "faa037ee-ba46-40f7-dc98-7e74ce04a727",
        "colab": {
          "base_uri": "https://localhost:8080/",
          "height": 35
        }
      },
      "execution_count": null,
      "outputs": [
        {
          "output_type": "execute_result",
          "data": {
            "text/plain": [
              "'movie haion li'"
            ],
            "application/vnd.google.colaboratory.intrinsic+json": {
              "type": "string"
            }
          },
          "metadata": {},
          "execution_count": 112
        }
      ]
    },
    {
      "cell_type": "code",
      "source": [
        "pred_vals = predicted_ans.split()"
      ],
      "metadata": {
        "id": "m1150Z-vWpOP"
      },
      "execution_count": null,
      "outputs": []
    },
    {
      "cell_type": "code",
      "source": [
        "pred_vals"
      ],
      "metadata": {
        "id": "v2sLId9-Xde8",
        "outputId": "6c774dc2-eb07-4d84-e504-bf621c6a6a31",
        "colab": {
          "base_uri": "https://localhost:8080/"
        }
      },
      "execution_count": null,
      "outputs": [
        {
          "output_type": "execute_result",
          "data": {
            "text/plain": [
              "['movie', 'haion', 'li']"
            ]
          },
          "metadata": {},
          "execution_count": 114
        }
      ]
    },
    {
      "cell_type": "code",
      "source": [
        "tokens = query.split()\n",
        "\n",
        "# Replace each instance of [MASK] with the corresponding value\n",
        "for i, token in enumerate(tokens):\n",
        "    if token == \"[MASK]\":\n",
        "        tokens[i] = pred_vals.pop(0)\n",
        "\n",
        "# Join the tokens back into a string\n",
        "result = \" \".join(tokens)"
      ],
      "metadata": {
        "id": "hxR-f9cxWSXw"
      },
      "execution_count": null,
      "outputs": []
    },
    {
      "cell_type": "code",
      "source": [
        "actual_sentence = \"hello yar mein is movie ko nahi dekha hoon tho tho mein thode der ke liye\""
      ],
      "metadata": {
        "id": "6qIeW8waW09s"
      },
      "execution_count": null,
      "outputs": []
    },
    {
      "cell_type": "code",
      "source": [
        "print(\"\\nInput sentence with Mask: \",query,\"\\n\")\n",
        "print(\"\\nActual Sentence: \",actual_sentence,\"\\n\")\n",
        "print(\"\\nPredicted Sentence: \",result,\"\\n\")"
      ],
      "metadata": {
        "id": "qZb1ABTmWLjN",
        "outputId": "58d3909a-0060-4721-c1b1-59a472ea1a84",
        "colab": {
          "base_uri": "https://localhost:8080/"
        }
      },
      "execution_count": null,
      "outputs": [
        {
          "output_type": "stream",
          "name": "stdout",
          "text": [
            "\n",
            "Input sentence with Mask:  hello yar mein is [MASK] ko nahi  [MASK] hoon tho tho mein thode der ke liye \n",
            "\n",
            "\n",
            "Actual Sentence:  hello yar mein is movie ko nahi dekha hoon tho tho mein thode der ke liye \n",
            "\n",
            "\n",
            "Predicted Sentence:  hello yar mein is movie ko nahi haion hoon tho tho mein thode der ke liye \n",
            "\n"
          ]
        }
      ]
    },
    {
      "cell_type": "code",
      "source": [
        "if __name__ == \"__main__\":\n",
        "  # To train the model give dataset path and uncomment the train_transformer method\n",
        "    # dataset_path = '/content/train.txt'\n",
        "    # model,tokenizer = train_transformer(dataset_path)\n",
        "\n",
        "  # To use the transformer as Masked Language Model\n",
        "    model_path = '/content'\n",
        "    model,tokenizer = load_model(model_path)\n",
        "    query = input(\"Input the phrase along with [MASK] to predict [MASK] values\")\n",
        "    # query = \"hello yar mein is movie ko nahi dekha hoon tho tho mein thode der ke [MASK] [MASK]\"\n",
        "    predicted_ans = evaluate_sentence(query,model,tokenizer)\n",
        "    print(query)"
      ],
      "metadata": {
        "id": "bokDCS8kGo15"
      },
      "execution_count": null,
      "outputs": []
    }
  ]
}